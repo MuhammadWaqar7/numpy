{
 "cells": [
  {
   "cell_type": "code",
   "execution_count": 1,
   "id": "9cb6efbc-5514-46b0-a58f-66eb98c7ad15",
   "metadata": {},
   "outputs": [
    {
     "ename": "NameError",
     "evalue": "name 'np' is not defined",
     "output_type": "error",
     "traceback": [
      "\u001b[1;31m---------------------------------------------------------------------------\u001b[0m",
      "\u001b[1;31mNameError\u001b[0m                                 Traceback (most recent call last)",
      "Cell \u001b[1;32mIn[1], line 1\u001b[0m\n\u001b[1;32m----> 1\u001b[0m height\u001b[38;5;241m=\u001b[39mnp\u001b[38;5;241m.\u001b[39marray([\u001b[38;5;241m7\u001b[39m,\u001b[38;5;241m8\u001b[39m,\u001b[38;5;241m4\u001b[39m,\u001b[38;5;241m3\u001b[39m,\u001b[38;5;241m8\u001b[39m,\u001b[38;5;241m24\u001b[39m])\n\u001b[0;32m      2\u001b[0m height\n",
      "\u001b[1;31mNameError\u001b[0m: name 'np' is not defined"
     ]
    }
   ],
   "source": [
    "height=np.array([7,8,4,3,8,24])\n",
    "height\n"
   ]
  },
  {
   "cell_type": "code",
   "execution_count": null,
   "id": "fb7ec385-6c1c-4509-9ceb-5d48f34dea12",
   "metadata": {},
   "outputs": [],
   "source": [
    "weight=np.array([43,56,76,34,54,34])\n",
    "weight"
   ]
  },
  {
   "cell_type": "code",
   "execution_count": null,
   "id": "ce7bc7ee-6ed3-4d5c-ac7c-14286ab616b4",
   "metadata": {},
   "outputs": [],
   "source": [
    "bmi= weight/ height **2\n"
   ]
  },
  {
   "cell_type": "markdown",
   "id": "4a68b307-552f-4d46-9d1b-5e4d9a109834",
   "metadata": {},
   "source": [
    "## Numpy-Numerical Python\n",
    "- what is time complesity,big o."
   ]
  },
  {
   "cell_type": "code",
   "execution_count": 6,
   "id": "fa9ef4f5-3692-4940-89ad-54996e6b601d",
   "metadata": {},
   "outputs": [
    {
     "ename": "SyntaxError",
     "evalue": "invalid syntax (1524817335.py, line 2)",
     "output_type": "error",
     "traceback": [
      "\u001b[1;36m  Cell \u001b[1;32mIn[6], line 2\u001b[1;36m\u001b[0m\n\u001b[1;33m    pip instal numpy\u001b[0m\n\u001b[1;37m        ^\u001b[0m\n\u001b[1;31mSyntaxError\u001b[0m\u001b[1;31m:\u001b[0m invalid syntax\n"
     ]
    }
   ],
   "source": [
    "# install numpy\n",
    "pip instal numpy"
   ]
  },
  {
   "cell_type": "code",
   "execution_count": 7,
   "id": "c3ee4646-c820-4f45-8d51-c57b5806f4fb",
   "metadata": {},
   "outputs": [],
   "source": [
    "import numpy as np"
   ]
  },
  {
   "cell_type": "code",
   "execution_count": 8,
   "id": "bfd8d273-2211-4bef-907f-736aba4d4dcd",
   "metadata": {},
   "outputs": [
    {
     "data": {
      "text/plain": [
       "array([ 7,  8,  4,  3,  8, 24])"
      ]
     },
     "execution_count": 8,
     "metadata": {},
     "output_type": "execute_result"
    }
   ],
   "source": [
    "height=np.array([7,8,4,3,8,24])\n",
    "height"
   ]
  },
  {
   "cell_type": "code",
   "execution_count": 10,
   "id": "26e23b21-0cd7-40f3-abba-f5a47071af84",
   "metadata": {},
   "outputs": [
    {
     "data": {
      "text/plain": [
       "array([43, 56, 76, 34, 54, 34])"
      ]
     },
     "execution_count": 10,
     "metadata": {},
     "output_type": "execute_result"
    }
   ],
   "source": [
    "weight=np.array([43,56,76,34,54,34])\n",
    "weight"
   ]
  },
  {
   "cell_type": "code",
   "execution_count": 11,
   "id": "3e14b4a0-9ef4-4206-a790-df3862941ba0",
   "metadata": {},
   "outputs": [],
   "source": [
    "bmi = weight/height **2"
   ]
  },
  {
   "cell_type": "code",
   "execution_count": 12,
   "id": "6deacdbd-92d4-406d-9422-1fffc9bb78ad",
   "metadata": {},
   "outputs": [
    {
     "data": {
      "text/plain": [
       "array([0.87755102, 0.875     , 4.75      , 3.77777778, 0.84375   ,\n",
       "       0.05902778])"
      ]
     },
     "execution_count": 12,
     "metadata": {},
     "output_type": "execute_result"
    }
   ],
   "source": [
    "bmi"
   ]
  },
  {
   "cell_type": "code",
   "execution_count": 18,
   "id": "d5194e5f-6f45-4d19-b17d-a0292e468ff6",
   "metadata": {},
   "outputs": [
    {
     "ename": "AttributeError",
     "evalue": "'builtin_function_or_method' object has no attribute 'type'",
     "output_type": "error",
     "traceback": [
      "\u001b[1;31m---------------------------------------------------------------------------\u001b[0m",
      "\u001b[1;31mAttributeError\u001b[0m                            Traceback (most recent call last)",
      "Cell \u001b[1;32mIn[18], line 2\u001b[0m\n\u001b[0;32m      1\u001b[0m extra\u001b[38;5;241m=\u001b[39m([\u001b[38;5;241m1\u001b[39m,\u001b[38;5;241m2.2\u001b[39m,\u001b[38;5;124m\"\u001b[39m\u001b[38;5;124mhello\u001b[39m\u001b[38;5;124m\"\u001b[39m,\u001b[38;5;28;01mFalse\u001b[39;00m])\n\u001b[1;32m----> 2\u001b[0m \u001b[38;5;28mprint\u001b[39m\u001b[38;5;241m.\u001b[39mtype(extra)\n",
      "\u001b[1;31mAttributeError\u001b[0m: 'builtin_function_or_method' object has no attribute 'type'"
     ]
    }
   ],
   "source": [
    "extra=([1,2.2,\"hello\",False])\n",
    "print.type(extra)"
   ]
  },
  {
   "cell_type": "code",
   "execution_count": 27,
   "id": "c8d05d43-0409-49f8-a5e4-123f1a24f3ae",
   "metadata": {},
   "outputs": [
    {
     "data": {
      "text/plain": [
       "array([ 7,  9, 11, 13, 16])"
      ]
     },
     "execution_count": 27,
     "metadata": {},
     "output_type": "execute_result"
    }
   ],
   "source": [
    "np_list1=np.array([1,2,3,4,6])\n",
    "np_list2=np.array([6,7,8,9,10])\n",
    "np_list1+ np_list2 # in numpy list are added up to each other"
   ]
  },
  {
   "cell_type": "markdown",
   "id": "0b290abf-c06b-46fd-8e48-96e22982121f",
   "metadata": {},
   "source": [
    "## Numpy Subsetting"
   ]
  },
  {
   "cell_type": "code",
   "execution_count": 28,
   "id": "0fc0b919-0f6e-4761-abe2-67a5111af173",
   "metadata": {},
   "outputs": [
    {
     "data": {
      "text/plain": [
       "3"
      ]
     },
     "execution_count": 28,
     "metadata": {},
     "output_type": "execute_result"
    }
   ],
   "source": [
    "np_list1[2]"
   ]
  },
  {
   "cell_type": "code",
   "execution_count": 29,
   "id": "9245fe8e-972a-42c3-be71-a8a3735e167e",
   "metadata": {},
   "outputs": [
    {
     "data": {
      "text/plain": [
       "array([False,  True,  True,  True,  True])"
      ]
     },
     "execution_count": 29,
     "metadata": {},
     "output_type": "execute_result"
    }
   ],
   "source": [
    "np_list2 > 6"
   ]
  },
  {
   "cell_type": "code",
   "execution_count": 30,
   "id": "63f6059c-36bb-4e07-a5c8-0714f1490eb3",
   "metadata": {},
   "outputs": [
    {
     "data": {
      "text/plain": [
       "array([ 7,  8,  9, 10])"
      ]
     },
     "execution_count": 30,
     "metadata": {},
     "output_type": "execute_result"
    }
   ],
   "source": [
    "np_list2[np_list2 > 6]"
   ]
  },
  {
   "cell_type": "code",
   "execution_count": 31,
   "id": "97732c7d-c4c8-4692-b041-36a138564b6c",
   "metadata": {},
   "outputs": [
    {
     "data": {
      "text/plain": [
       "array([10])"
      ]
     },
     "execution_count": 31,
     "metadata": {},
     "output_type": "execute_result"
    }
   ],
   "source": [
    "np_list2[np_list2 > 9]"
   ]
  },
  {
   "cell_type": "markdown",
   "id": "be8e5359-8788-45e1-8e52-28c221874d6b",
   "metadata": {},
   "source": [
    "## 2D Array"
   ]
  },
  {
   "cell_type": "code",
   "execution_count": 40,
   "id": "0c785572-e2bf-4eef-894c-eb7c0e227df2",
   "metadata": {},
   "outputs": [
    {
     "data": {
      "text/plain": [
       "array([[1, 2],\n",
       "       [3, 4],\n",
       "       [5, 6]])"
      ]
     },
     "execution_count": 40,
     "metadata": {},
     "output_type": "execute_result"
    }
   ],
   "source": [
    "arr_2d = np.array([[1,2],\n",
    "         [3,4],[5,6]])\n",
    "arr_2d\n",
    "# shape (rows,columns)"
   ]
  },
  {
   "cell_type": "code",
   "execution_count": 41,
   "id": "8a707991-9130-45c7-a49d-5e454164085a",
   "metadata": {},
   "outputs": [
    {
     "data": {
      "text/plain": [
       "2"
      ]
     },
     "execution_count": 41,
     "metadata": {},
     "output_type": "execute_result"
    }
   ],
   "source": [
    "arr_2d.ndim"
   ]
  },
  {
   "cell_type": "code",
   "execution_count": 43,
   "id": "667b44d7-d583-4cd7-b885-1a480a226604",
   "metadata": {},
   "outputs": [
    {
     "data": {
      "text/plain": [
       "3"
      ]
     },
     "execution_count": 43,
     "metadata": {},
     "output_type": "execute_result"
    }
   ],
   "source": [
    "arr_2d[1,0]"
   ]
  },
  {
   "cell_type": "code",
   "execution_count": 44,
   "id": "66568cb9-2744-4747-a605-5d9298717e8e",
   "metadata": {},
   "outputs": [
    {
     "data": {
      "text/plain": [
       "array([3, 4])"
      ]
     },
     "execution_count": 44,
     "metadata": {},
     "output_type": "execute_result"
    }
   ],
   "source": [
    "arr_2d[1]"
   ]
  },
  {
   "cell_type": "code",
   "execution_count": 46,
   "id": "ec6c4a4f-09b2-40bd-9384-9d50eebae848",
   "metadata": {},
   "outputs": [
    {
     "data": {
      "text/plain": [
       "array([[3, 4],\n",
       "       [5, 6]])"
      ]
     },
     "execution_count": 46,
     "metadata": {},
     "output_type": "execute_result"
    }
   ],
   "source": [
    "# to get last two matrix\n",
    "arr_2d[1:]"
   ]
  },
  {
   "cell_type": "code",
   "execution_count": 47,
   "id": "81cf9ea5-5cbf-4a13-a057-bba67fdd86cc",
   "metadata": {},
   "outputs": [
    {
     "data": {
      "text/plain": [
       "array([[1, 2],\n",
       "       [3, 4]])"
      ]
     },
     "execution_count": 47,
     "metadata": {},
     "output_type": "execute_result"
    }
   ],
   "source": [
    "arr_2d[:2]"
   ]
  },
  {
   "cell_type": "code",
   "execution_count": 48,
   "id": "49ef75d0-c917-43f5-86f9-cb67c6a1f6f4",
   "metadata": {},
   "outputs": [
    {
     "data": {
      "text/plain": [
       "5"
      ]
     },
     "execution_count": 48,
     "metadata": {},
     "output_type": "execute_result"
    }
   ],
   "source": [
    "# to get 5\n",
    "arr_2d[2,0]"
   ]
  },
  {
   "cell_type": "code",
   "execution_count": 54,
   "id": "48ab7fb7-ad69-447a-9b60-6ecced85140b",
   "metadata": {},
   "outputs": [],
   "source": [
    "### array([[1, 2],\n",
    "       ##   [3, 4],\n",
    "      ### [5, 6]]) ###"
   ]
  },
  {
   "cell_type": "code",
   "execution_count": 57,
   "id": "d4ac66db-cb5c-4a0f-9570-395f8f746936",
   "metadata": {},
   "outputs": [
    {
     "data": {
      "text/plain": [
       "3"
      ]
     },
     "execution_count": 57,
     "metadata": {},
     "output_type": "execute_result"
    }
   ],
   "source": [
    "arr_3d = np.array([[[1,2],\n",
    "                    [3,4]],\n",
    "                   \n",
    "                   [[5,6],\n",
    "                    [6,7]]])\n",
    "arr_3d.ndim"
   ]
  },
  {
   "cell_type": "code",
   "execution_count": 58,
   "id": "7578c3ab-eec3-4efb-80b0-8187279f825f",
   "metadata": {},
   "outputs": [
    {
     "data": {
      "text/plain": [
       "5"
      ]
     },
     "execution_count": 58,
     "metadata": {},
     "output_type": "execute_result"
    }
   ],
   "source": [
    "arr_3d[1,0,0]"
   ]
  },
  {
   "cell_type": "code",
   "execution_count": 59,
   "id": "589de8b1-c6a3-4d22-b041-92b7502692de",
   "metadata": {},
   "outputs": [
    {
     "data": {
      "text/plain": [
       "7"
      ]
     },
     "execution_count": 59,
     "metadata": {},
     "output_type": "execute_result"
    }
   ],
   "source": [
    "arr_3d[1,1,1]"
   ]
  },
  {
   "cell_type": "code",
   "execution_count": 60,
   "id": "1bc70792-b41c-4ee9-b656-57fdab24ab66",
   "metadata": {},
   "outputs": [
    {
     "data": {
      "text/plain": [
       "3"
      ]
     },
     "execution_count": 60,
     "metadata": {},
     "output_type": "execute_result"
    }
   ],
   "source": [
    "arr_4d = np.array([[[1,2,43],\n",
    "                    [3,4,23]],\n",
    "                   \n",
    "                   [[5,6,24],\n",
    "                    [6,7,22]]])\n",
    "arr_4d.ndim"
   ]
  },
  {
   "cell_type": "code",
   "execution_count": 65,
   "id": "245bf260-745b-4f65-80be-305cc98f40f4",
   "metadata": {},
   "outputs": [
    {
     "ename": "IndexError",
     "evalue": "index 2 is out of bounds for axis 1 with size 2",
     "output_type": "error",
     "traceback": [
      "\u001b[1;31m---------------------------------------------------------------------------\u001b[0m",
      "\u001b[1;31mIndexError\u001b[0m                                Traceback (most recent call last)",
      "Cell \u001b[1;32mIn[65], line 1\u001b[0m\n\u001b[1;32m----> 1\u001b[0m arr_4d[\u001b[38;5;241m0\u001b[39m,\u001b[38;5;241m2\u001b[39m,\u001b[38;5;241m1\u001b[39m]\n",
      "\u001b[1;31mIndexError\u001b[0m: index 2 is out of bounds for axis 1 with size 2"
     ]
    }
   ],
   "source": [
    "arr_4d[1,2,1]"
   ]
  },
  {
   "cell_type": "code",
   "execution_count": 63,
   "id": "57800909-5935-4b10-8b74-b7e6cd4c4ddd",
   "metadata": {},
   "outputs": [
    {
     "data": {
      "text/plain": [
       "4"
      ]
     },
     "execution_count": 63,
     "metadata": {},
     "output_type": "execute_result"
    }
   ],
   "source": [
    "arr_4d[0,1,1]"
   ]
  },
  {
   "cell_type": "markdown",
   "id": "93450e6d-cc07-490b-8f08-1df2f20993b1",
   "metadata": {},
   "source": [
    "### Properties of numpy"
   ]
  },
  {
   "cell_type": "code",
   "execution_count": 66,
   "id": "5a72cf56-53cc-4bcd-8e1a-70d3a617554a",
   "metadata": {},
   "outputs": [
    {
     "data": {
      "text/plain": [
       "dtype('int32')"
      ]
     },
     "execution_count": 66,
     "metadata": {},
     "output_type": "execute_result"
    }
   ],
   "source": [
    "np_list1.shape\n",
    "np_list1.size\n",
    "np_list1.dtype\n",
    "# search more properties"
   ]
  },
  {
   "cell_type": "code",
   "execution_count": 67,
   "id": "97e51d50-3dd8-4872-955f-83c93770883f",
   "metadata": {},
   "outputs": [
    {
     "data": {
      "text/plain": [
       "array([[1., 1., 1.],\n",
       "       [1., 1., 1.]])"
      ]
     },
     "execution_count": 67,
     "metadata": {},
     "output_type": "execute_result"
    }
   ],
   "source": [
    "np.ones((2,3))"
   ]
  },
  {
   "cell_type": "code",
   "execution_count": null,
   "id": "09cece02-ecf0-43cd-b9a9-2d5fea539ab7",
   "metadata": {},
   "outputs": [],
   "source": [
    "## array([[1., 1., 1.],\n",
    "      ## [1., 1., 1.]])"
   ]
  },
  {
   "cell_type": "markdown",
   "id": "5ad9af03-ee5b-432e-846e-f791b9b09dd7",
   "metadata": {},
   "source": [
    "### Array Operations\n"
   ]
  },
  {
   "cell_type": "code",
   "execution_count": 69,
   "id": "1ec9efe1-cad8-42ff-b462-99e929f8414e",
   "metadata": {},
   "outputs": [
    {
     "ename": "AttributeError",
     "evalue": "module 'numpy' has no attribute 'means'",
     "output_type": "error",
     "traceback": [
      "\u001b[1;31m---------------------------------------------------------------------------\u001b[0m",
      "\u001b[1;31mAttributeError\u001b[0m                            Traceback (most recent call last)",
      "Cell \u001b[1;32mIn[69], line 6\u001b[0m\n\u001b[0;32m      1\u001b[0m \u001b[38;5;66;03m# adding list\u001b[39;00m\n\u001b[0;32m      2\u001b[0m \u001b[38;5;66;03m# divid\u001b[39;00m\n\u001b[0;32m      3\u001b[0m \u001b[38;5;66;03m# modulose\u001b[39;00m\n\u001b[0;32m      4\u001b[0m \u001b[38;5;66;03m# square\u001b[39;00m\n\u001b[0;32m      5\u001b[0m \u001b[38;5;66;03m# statistics\u001b[39;00m\n\u001b[1;32m----> 6\u001b[0m np\u001b[38;5;241m.\u001b[39mmeans(np_list1)\n",
      "File \u001b[1;32m~\\anaconda5\\Lib\\site-packages\\numpy\\__init__.py:333\u001b[0m, in \u001b[0;36m__getattr__\u001b[1;34m(attr)\u001b[0m\n\u001b[0;32m    330\u001b[0m     \u001b[38;5;124m\"\u001b[39m\u001b[38;5;124mRemoved in NumPy 1.25.0\u001b[39m\u001b[38;5;124m\"\u001b[39m\n\u001b[0;32m    331\u001b[0m     \u001b[38;5;28;01mraise\u001b[39;00m \u001b[38;5;167;01mRuntimeError\u001b[39;00m(\u001b[38;5;124m\"\u001b[39m\u001b[38;5;124mTester was removed in NumPy 1.25.\u001b[39m\u001b[38;5;124m\"\u001b[39m)\n\u001b[1;32m--> 333\u001b[0m \u001b[38;5;28;01mraise\u001b[39;00m \u001b[38;5;167;01mAttributeError\u001b[39;00m(\u001b[38;5;124m\"\u001b[39m\u001b[38;5;124mmodule \u001b[39m\u001b[38;5;132;01m{!r}\u001b[39;00m\u001b[38;5;124m has no attribute \u001b[39m\u001b[38;5;124m\"\u001b[39m\n\u001b[0;32m    334\u001b[0m                      \u001b[38;5;124m\"\u001b[39m\u001b[38;5;132;01m{!r}\u001b[39;00m\u001b[38;5;124m\"\u001b[39m\u001b[38;5;241m.\u001b[39mformat(\u001b[38;5;18m__name__\u001b[39m, attr))\n",
      "\u001b[1;31mAttributeError\u001b[0m: module 'numpy' has no attribute 'means'"
     ]
    }
   ],
   "source": [
    "# adding list\n",
    "# divid\n",
    "# modulose\n",
    "# square\n",
    "# statistics\n",
    "np.means(np_list1)"
   ]
  },
  {
   "cell_type": "code",
   "execution_count": 70,
   "id": "214a8ba2-ff5b-44e0-9980-410aecc70420",
   "metadata": {},
   "outputs": [
    {
     "data": {
      "text/plain": [
       "2.96"
      ]
     },
     "execution_count": 70,
     "metadata": {},
     "output_type": "execute_result"
    }
   ],
   "source": [
    "np.std(np_list1) # square root of varience\n",
    "np.var(np_list1) # varience means of vary from means"
   ]
  },
  {
   "cell_type": "code",
   "execution_count": 71,
   "id": "ae221e15-f4d2-4d06-b8ff-b75e93af23aa",
   "metadata": {},
   "outputs": [
    {
     "data": {
      "text/plain": [
       "1"
      ]
     },
     "execution_count": 71,
     "metadata": {},
     "output_type": "execute_result"
    }
   ],
   "source": [
    "np.max(np_list1)\n",
    "np.min(np_list1)"
   ]
  },
  {
   "cell_type": "code",
   "execution_count": 77,
   "id": "9d69559b-8ef5-46c0-881c-69884f05fe82",
   "metadata": {},
   "outputs": [
    {
     "ename": "AttributeError",
     "evalue": "module 'numpy' has no attribute 'mode'",
     "output_type": "error",
     "traceback": [
      "\u001b[1;31m---------------------------------------------------------------------------\u001b[0m",
      "\u001b[1;31mAttributeError\u001b[0m                            Traceback (most recent call last)",
      "Cell \u001b[1;32mIn[77], line 3\u001b[0m\n\u001b[0;32m      1\u001b[0m \u001b[38;5;66;03m# how to find mode\u001b[39;00m\n\u001b[0;32m      2\u001b[0m \u001b[38;5;28;01mimport\u001b[39;00m \u001b[38;5;21;01mstatistics\u001b[39;00m\n\u001b[1;32m----> 3\u001b[0m np\u001b[38;5;241m.\u001b[39mmode(np_list1)\n",
      "File \u001b[1;32m~\\anaconda5\\Lib\\site-packages\\numpy\\__init__.py:333\u001b[0m, in \u001b[0;36m__getattr__\u001b[1;34m(attr)\u001b[0m\n\u001b[0;32m    330\u001b[0m     \u001b[38;5;124m\"\u001b[39m\u001b[38;5;124mRemoved in NumPy 1.25.0\u001b[39m\u001b[38;5;124m\"\u001b[39m\n\u001b[0;32m    331\u001b[0m     \u001b[38;5;28;01mraise\u001b[39;00m \u001b[38;5;167;01mRuntimeError\u001b[39;00m(\u001b[38;5;124m\"\u001b[39m\u001b[38;5;124mTester was removed in NumPy 1.25.\u001b[39m\u001b[38;5;124m\"\u001b[39m)\n\u001b[1;32m--> 333\u001b[0m \u001b[38;5;28;01mraise\u001b[39;00m \u001b[38;5;167;01mAttributeError\u001b[39;00m(\u001b[38;5;124m\"\u001b[39m\u001b[38;5;124mmodule \u001b[39m\u001b[38;5;132;01m{!r}\u001b[39;00m\u001b[38;5;124m has no attribute \u001b[39m\u001b[38;5;124m\"\u001b[39m\n\u001b[0;32m    334\u001b[0m                      \u001b[38;5;124m\"\u001b[39m\u001b[38;5;132;01m{!r}\u001b[39;00m\u001b[38;5;124m\"\u001b[39m\u001b[38;5;241m.\u001b[39mformat(\u001b[38;5;18m__name__\u001b[39m, attr))\n",
      "\u001b[1;31mAttributeError\u001b[0m: module 'numpy' has no attribute 'mode'"
     ]
    }
   ],
   "source": [
    "# how to find mode\n",
    "import statistics\n",
    "np.mode(np_list1)"
   ]
  },
  {
   "cell_type": "markdown",
   "id": "04b2a55f-d6fb-4736-8b37-80916e3e9f91",
   "metadata": {},
   "source": [
    "### Matplotlib"
   ]
  },
  {
   "cell_type": "code",
   "execution_count": 1,
   "id": "346dba2d-1435-4267-8e80-612e6e991dc1",
   "metadata": {},
   "outputs": [
    {
     "name": "stdout",
     "output_type": "stream",
     "text": [
      "Requirement already satisfied: matplotlib in c:\\users\\musheer khan\\anaconda5\\lib\\site-packages (3.9.2)\n",
      "Requirement already satisfied: contourpy>=1.0.1 in c:\\users\\musheer khan\\anaconda5\\lib\\site-packages (from matplotlib) (1.2.0)\n",
      "Requirement already satisfied: cycler>=0.10 in c:\\users\\musheer khan\\anaconda5\\lib\\site-packages (from matplotlib) (0.11.0)\n",
      "Requirement already satisfied: fonttools>=4.22.0 in c:\\users\\musheer khan\\anaconda5\\lib\\site-packages (from matplotlib) (4.51.0)\n",
      "Requirement already satisfied: kiwisolver>=1.3.1 in c:\\users\\musheer khan\\anaconda5\\lib\\site-packages (from matplotlib) (1.4.4)\n",
      "Requirement already satisfied: numpy>=1.23 in c:\\users\\musheer khan\\anaconda5\\lib\\site-packages (from matplotlib) (1.26.4)\n",
      "Requirement already satisfied: packaging>=20.0 in c:\\users\\musheer khan\\anaconda5\\lib\\site-packages (from matplotlib) (24.1)\n",
      "Requirement already satisfied: pillow>=8 in c:\\users\\musheer khan\\anaconda5\\lib\\site-packages (from matplotlib) (10.4.0)\n",
      "Requirement already satisfied: pyparsing>=2.3.1 in c:\\users\\musheer khan\\anaconda5\\lib\\site-packages (from matplotlib) (3.1.2)\n",
      "Requirement already satisfied: python-dateutil>=2.7 in c:\\users\\musheer khan\\anaconda5\\lib\\site-packages (from matplotlib) (2.9.0.post0)\n",
      "Requirement already satisfied: six>=1.5 in c:\\users\\musheer khan\\anaconda5\\lib\\site-packages (from python-dateutil>=2.7->matplotlib) (1.16.0)\n",
      "Note: you may need to restart the kernel to use updated packages.\n"
     ]
    },
    {
     "name": "stderr",
     "output_type": "stream",
     "text": [
      "\n",
      "[notice] A new release of pip is available: 25.1 -> 25.1.1\n",
      "[notice] To update, run: python.exe -m pip install --upgrade pip\n"
     ]
    }
   ],
   "source": [
    "pip install matplotlib\n"
   ]
  },
  {
   "cell_type": "code",
   "execution_count": 2,
   "id": "ecc2d1fe-bc6f-493b-9b33-e4c5a35a6090",
   "metadata": {},
   "outputs": [],
   "source": [
    "import matplotlib.pyplot as plt"
   ]
  },
  {
   "cell_type": "code",
   "execution_count": 6,
   "id": "5d37b60e-6c04-4362-bf13-beecc22dde11",
   "metadata": {},
   "outputs": [],
   "source": [
    "# Line Chart\n",
    "# on the basis of time series data\n",
    "year = [2020,2021,2022,2023,2024,2025]\n",
    "sales= [100,105,140,120,125,130]"
   ]
  },
  {
   "cell_type": "code",
   "execution_count": 12,
   "id": "b88ff0a4-c072-4d83-87c0-72ac5f31281b",
   "metadata": {},
   "outputs": [
    {
     "data": {
      "image/png": "[encoded data removed]",
      "text/plain": [
       "<Figure size 640x480 with 1 Axes>"
      ]
     },
     "metadata": {},
     "output_type": "display_data"
    }
   ],
   "source": [
    "# making a plot\n",
    "month = ['jan','feb','march','april','may','june']\n",
    "sales= [100,105,140,120,125,130]\n",
    "plt.plot(month,sales)\n",
    "# Making Title for the Graph\n",
    "plt.title('Sales Analysis')\n",
    "plt.xlabel('Time')\n",
    "plt.ylabel('Sales')\n",
    "# showing\n",
    "plt.show()"
   ]
  },
  {
   "cell_type": "code",
   "execution_count": 9,
   "id": "e7540bcf-a297-4d29-9a81-03cd589bdbb8",
   "metadata": {},
   "outputs": [
    {
     "data": {
      "image/png": "[encoded data removed]",
      "text/plain": [
       "<Figure size 640x480 with 1 Axes>"
      ]
     },
     "metadata": {},
     "output_type": "display_data"
    }
   ],
   "source": [
    "plt.bar(year,sales)\n",
    "# Making Title for the Graph\n",
    "plt.title('Sales Analysis')\n",
    "plt.xlabel('Time')\n",
    "plt.ylabel('Sales')\n",
    "# showing\n",
    "plt.show()"
   ]
  },
  {
   "cell_type": "code",
   "execution_count": null,
   "id": "0d053216-17fd-4307-8d42-10abc29e5be9",
   "metadata": {},
   "outputs": [],
   "source": [
    "# making a plot\n",
    "month = ['jan','feb','march','april','may','june']\n",
    "sales= [100,105,140,120,125,130]\n",
    "plt.bar(month,sales)\n",
    "# Making Title for the Graph\n",
    "plt.title('Sales Analysis')\n",
    "plt.xlabel('Time')\n",
    "plt.ylabel('Sales')\n",
    "# showing\n",
    "plt.show()"
   ]
  },
  {
   "cell_type": "code",
   "execution_count": null,
   "id": "639b4d1f-5786-47f1-b649-9d7dadc2435f",
   "metadata": {},
   "outputs": [],
   "source": [
    "## Scatter \n",
    "## when Scatter is neccessry "
   ]
  }
 ],
 "metadata": {
  "kernelspec": {
   "display_name": "Python 3 (ipykernel)",
   "language": "python",
   "name": "python3"
  },
  "language_info": {
   "codemirror_mode": {
    "name": "ipython",
    "version": 3
   },
   "file_extension": ".py",
   "mimetype": "text/x-python",
   "name": "python",
   "nbconvert_exporter": "python",
   "pygments_lexer": "ipython3",
   "version": "3.12.7"
  }
 },
 "nbformat": 4,
 "nbformat_minor": 5
}
